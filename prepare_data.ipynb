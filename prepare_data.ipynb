{
 "cells": [
  {
   "cell_type": "code",
   "execution_count": 1,
   "id": "fb3da91c",
   "metadata": {},
   "outputs": [],
   "source": [
    "import os \n",
    "from pathlib import Path "
   ]
  },
  {
   "cell_type": "code",
   "execution_count": 2,
   "id": "9e735224",
   "metadata": {},
   "outputs": [
    {
     "name": "stdout",
     "output_type": "stream",
     "text": [
      "'License terms.txt'    test_flooding.csv   tmp\r\n",
      " prepare_data.ipynb    test_normal.csv\t   train_data.tar.lz.segment_aa\r\n",
      " README.md\t       test_plateau.csv    train_data.tar.lz.segment_ab\r\n",
      " recover_datasets.sh   test_playback.csv   train_data.tar.lz.segment_ac\r\n",
      " test_continuous.csv   test_suppress.csv\r\n"
     ]
    }
   ],
   "source": [
    "!ls"
   ]
  },
  {
   "cell_type": "markdown",
   "id": "1508c7f1",
   "metadata": {},
   "source": [
    "## Unzip test files and remove zips "
   ]
  },
  {
   "cell_type": "code",
   "execution_count": 5,
   "id": "149f8c02",
   "metadata": {},
   "outputs": [
    {
     "name": "stdout",
     "output_type": "stream",
     "text": [
      "Archive:  test_continuous.zip\n",
      "  inflating: test_continuous.csv     \n",
      "Archive:  test_flooding.zip\n",
      "  inflating: test_flooding.csv       \n",
      "Archive:  test_normal.zip\n",
      "  inflating: test_normal.csv         \n",
      "Archive:  test_plateau.zip\n",
      "  inflating: test_plateau.csv        \n",
      "Archive:  test_playback.zip\n",
      "  inflating: test_playback.csv       \n",
      "Archive:  test_suppress.zip\n",
      "  inflating: test_suppress.csv       \n"
     ]
    }
   ],
   "source": [
    "!unzip test_continuous.zip\n",
    "!unzip test_flooding.zip\n",
    "!unzip test_normal.zip\n",
    "!unzip test_plateau.zip\n",
    "!unzip test_playback.zip\n",
    "!unzip test_suppress.zip"
   ]
  },
  {
   "cell_type": "code",
   "execution_count": 6,
   "id": "d1b097c2",
   "metadata": {},
   "outputs": [],
   "source": [
    "test_dataset_names = [\"test_continuous\",\"test_flooding\",\"test_normal\", \n",
    "                      \"test_plateau\",\"test_playback\", \"test_suppress\"]"
   ]
  },
  {
   "cell_type": "code",
   "execution_count": 7,
   "id": "b38ae243",
   "metadata": {},
   "outputs": [],
   "source": [
    "for fname in test_dataset_names: \n",
    "    zip_file = fname + \".zip\" \n",
    "    if os.path.exists(zip_file): \n",
    "        os.remove(zip_file) "
   ]
  },
  {
   "cell_type": "code",
   "execution_count": 8,
   "id": "43cf2c7e",
   "metadata": {},
   "outputs": [
    {
     "name": "stdout",
     "output_type": "stream",
     "text": [
      "'License terms.txt'    test_flooding.csv   tmp\r\n",
      " prepare_data.ipynb    test_normal.csv\t   train_data.tar.lz.segment_aa\r\n",
      " README.md\t       test_plateau.csv    train_data.tar.lz.segment_ab\r\n",
      " recover_datasets.sh   test_playback.csv   train_data.tar.lz.segment_ac\r\n",
      " test_continuous.csv   test_suppress.csv\r\n"
     ]
    }
   ],
   "source": [
    "!ls"
   ]
  },
  {
   "cell_type": "code",
   "execution_count": null,
   "id": "6b48a478",
   "metadata": {},
   "outputs": [],
   "source": []
  },
  {
   "cell_type": "code",
   "execution_count": 9,
   "id": "104539eb",
   "metadata": {},
   "outputs": [],
   "source": [
    "import pandas as pd "
   ]
  },
  {
   "cell_type": "code",
   "execution_count": 10,
   "id": "4daf938a",
   "metadata": {},
   "outputs": [],
   "source": [
    "for fname in test_dataset_names: \n",
    "    csv_name = fname + \".csv\" \n",
    "    assert os.path.exists(csv_name) \n",
    "    df = pd.read_csv(csv_name).fillna(0., inplace=False) \n",
    "    df.to_csv(csv_name, index=False) "
   ]
  },
  {
   "cell_type": "code",
   "execution_count": 16,
   "id": "4792e1b9",
   "metadata": {},
   "outputs": [],
   "source": [
    "for fname in test_dataset_names: \n",
    "    csv_name = fname + \".csv\" \n",
    "    df = pd.read_csv(csv_name) \n",
    "    if not 'Signal1_of_ID' in df.columns: \n",
    "        continue  # inconsistent column names \n",
    "    df = df.rename(columns={f'Signal{i}_of_ID': f'Signal{i}' for i in range(1,5)}, errors='raise')\n",
    "    df.to_csv(csv_name, index=False)"
   ]
  },
  {
   "cell_type": "code",
   "execution_count": 17,
   "id": "71643e5d",
   "metadata": {},
   "outputs": [
    {
     "name": "stdout",
     "output_type": "stream",
     "text": [
      "Index(['Label', 'Time', 'ID', 'Signal1', 'Signal2', 'Signal3', 'Signal4'], dtype='object')\n",
      "Index(['Label', 'Time', 'ID', 'Signal1', 'Signal2', 'Signal3', 'Signal4'], dtype='object')\n",
      "Index(['Label', 'Time', 'ID', 'Signal1', 'Signal2', 'Signal3', 'Signal4'], dtype='object')\n",
      "Index(['Label', 'Time', 'ID', 'Signal1', 'Signal2', 'Signal3', 'Signal4'], dtype='object')\n",
      "Index(['Label', 'Time', 'ID', 'Signal1', 'Signal2', 'Signal3', 'Signal4'], dtype='object')\n",
      "Index(['Label', 'Time', 'ID', 'Signal1', 'Signal2', 'Signal3', 'Signal4'], dtype='object')\n"
     ]
    }
   ],
   "source": [
    "for fname in test_dataset_names: \n",
    "    csv_name = fname + '.csv' \n",
    "    df = pd.read_csv(csv_name)\n",
    "    print(df.columns) "
   ]
  },
  {
   "cell_type": "code",
   "execution_count": null,
   "id": "a7df155d",
   "metadata": {},
   "outputs": [],
   "source": []
  }
 ],
 "metadata": {
  "kernelspec": {
   "display_name": "Python 3 (ipykernel)",
   "language": "python",
   "name": "python3"
  },
  "language_info": {
   "codemirror_mode": {
    "name": "ipython",
    "version": 3
   },
   "file_extension": ".py",
   "mimetype": "text/x-python",
   "name": "python",
   "nbconvert_exporter": "python",
   "pygments_lexer": "ipython3",
   "version": "3.8.10"
  }
 },
 "nbformat": 4,
 "nbformat_minor": 5
}
